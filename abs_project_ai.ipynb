{
 "cells": [
  {
   "cell_type": "code",
   "execution_count": 1,
   "id": "bbdd57be",
   "metadata": {},
   "outputs": [],
   "source": [
    "\"\"\"\n",
    "keras kütüphanesinin Sequential fonksiyonu ile boş bir yapay sinir ağı modeli oluşturmak için gerekli olan sınıf çağrılır.\n",
    "\"\"\"\n",
    "from keras.models import Sequential\n",
    "\"\"\"\n",
    "Dense fonksiyonu ile yapay sinir ağı tam bağlı katmanları tanımlamak için gerekli olan sınıf çağrılır.\n",
    "\"\"\"\n",
    "from keras.layers import Dense\n",
    "\"\"\"\n",
    "Dizi işlemlerini gerçekleştirebilmemiz için numpy'ı çağırıyoruz.\n",
    "\"\"\"\n",
    "import numpy as np\n",
    "\"\"\"\n",
    "Veri setini bölebilmek için train_test_split fonksiyonunu çağırıyoruz.\n",
    "\"\"\"\n",
    "from sklearn.model_selection import train_test_split\n",
    "\"\"\"\n",
    "Veri görselleştirme kullanma durumu göz önüne alınarak matplotlib çağırıyoruz.\n",
    "\"\"\"\n",
    "import matplotlib.pyplot as plt\n",
    "\"\"\"\n",
    "Hata paylarının hesabı için metrics çağırıyoruz.\n",
    "\"\"\"\n",
    "from sklearn import metrics\n",
    "\"\"\"\n",
    "Pythonun exceli olarak sınıfladığımız pandası da verileri serialize etmek için çağırıyoruz.\n",
    "\"\"\"\n",
    "import pandas as pd\n",
    "\"\"\"\n",
    "Mssql database bağlantısı için çağırıyoruz.\n",
    "\"\"\"\n",
    "import pypyodbc"
   ]
  },
  {
   "cell_type": "code",
   "execution_count": 5,
   "id": "906ea681",
   "metadata": {},
   "outputs": [],
   "source": [
    "db = pypyodbc.connect(\n",
    "    'Driver={SQL Server};'\n",
    "    'Server=DESKTOP-QOHO2CI\\SQLEXPRESS;'\n",
    "    'Database=absuzmansistem;'\n",
    "    'Trusted_Connection=True;'\n",
    ")\n",
    "imlec = db.cursor()\n",
    "\n",
    "imlec.execute('SELECT * FROM islemsonuclari')\n",
    "\n",
    "veriler = imlec.fetchall()"
   ]
  },
  {
   "cell_type": "code",
   "execution_count": 9,
   "id": "050c7fff",
   "metadata": {},
   "outputs": [],
   "source": [
    "arac_veriler = pd.DataFrame(veriler)"
   ]
  },
  {
   "cell_type": "code",
   "execution_count": 10,
   "id": "6213c2a5",
   "metadata": {},
   "outputs": [
    {
     "data": {
      "text/html": [
       "<div>\n",
       "<style scoped>\n",
       "    .dataframe tbody tr th:only-of-type {\n",
       "        vertical-align: middle;\n",
       "    }\n",
       "\n",
       "    .dataframe tbody tr th {\n",
       "        vertical-align: top;\n",
       "    }\n",
       "\n",
       "    .dataframe thead th {\n",
       "        text-align: right;\n",
       "    }\n",
       "</style>\n",
       "<table border=\"1\" class=\"dataframe\">\n",
       "  <thead>\n",
       "    <tr style=\"text-align: right;\">\n",
       "      <th></th>\n",
       "      <th>0</th>\n",
       "      <th>1</th>\n",
       "      <th>2</th>\n",
       "      <th>3</th>\n",
       "    </tr>\n",
       "  </thead>\n",
       "  <tbody>\n",
       "    <tr>\n",
       "      <th>0</th>\n",
       "      <td>1</td>\n",
       "      <td>50.400000</td>\n",
       "      <td>60.600000</td>\n",
       "      <td>25.7</td>\n",
       "    </tr>\n",
       "    <tr>\n",
       "      <th>1</th>\n",
       "      <td>2</td>\n",
       "      <td>13.483539</td>\n",
       "      <td>73.032922</td>\n",
       "      <td>36.0</td>\n",
       "    </tr>\n",
       "    <tr>\n",
       "      <th>2</th>\n",
       "      <td>3</td>\n",
       "      <td>8.037356</td>\n",
       "      <td>83.925287</td>\n",
       "      <td>45.0</td>\n",
       "    </tr>\n",
       "    <tr>\n",
       "      <th>3</th>\n",
       "      <td>4</td>\n",
       "      <td>38.400000</td>\n",
       "      <td>60.000000</td>\n",
       "      <td>7.0</td>\n",
       "    </tr>\n",
       "    <tr>\n",
       "      <th>4</th>\n",
       "      <td>5</td>\n",
       "      <td>59.400000</td>\n",
       "      <td>40.000000</td>\n",
       "      <td>41.0</td>\n",
       "    </tr>\n",
       "    <tr>\n",
       "      <th>...</th>\n",
       "      <td>...</td>\n",
       "      <td>...</td>\n",
       "      <td>...</td>\n",
       "      <td>...</td>\n",
       "    </tr>\n",
       "    <tr>\n",
       "      <th>364</th>\n",
       "      <td>365</td>\n",
       "      <td>6.925000</td>\n",
       "      <td>84.611111</td>\n",
       "      <td>48.0</td>\n",
       "    </tr>\n",
       "    <tr>\n",
       "      <th>365</th>\n",
       "      <td>366</td>\n",
       "      <td>33.600000</td>\n",
       "      <td>40.000000</td>\n",
       "      <td>8.0</td>\n",
       "    </tr>\n",
       "    <tr>\n",
       "      <th>366</th>\n",
       "      <td>367</td>\n",
       "      <td>18.815000</td>\n",
       "      <td>64.500000</td>\n",
       "      <td>44.0</td>\n",
       "    </tr>\n",
       "    <tr>\n",
       "      <th>367</th>\n",
       "      <td>368</td>\n",
       "      <td>25.200000</td>\n",
       "      <td>40.000000</td>\n",
       "      <td>54.0</td>\n",
       "    </tr>\n",
       "    <tr>\n",
       "      <th>368</th>\n",
       "      <td>369</td>\n",
       "      <td>36.000000</td>\n",
       "      <td>40.000000</td>\n",
       "      <td>58.0</td>\n",
       "    </tr>\n",
       "  </tbody>\n",
       "</table>\n",
       "<p>369 rows × 4 columns</p>\n",
       "</div>"
      ],
      "text/plain": [
       "       0          1          2     3\n",
       "0      1  50.400000  60.600000  25.7\n",
       "1      2  13.483539  73.032922  36.0\n",
       "2      3   8.037356  83.925287  45.0\n",
       "3      4  38.400000  60.000000   7.0\n",
       "4      5  59.400000  40.000000  41.0\n",
       "..   ...        ...        ...   ...\n",
       "364  365   6.925000  84.611111  48.0\n",
       "365  366  33.600000  40.000000   8.0\n",
       "366  367  18.815000  64.500000  44.0\n",
       "367  368  25.200000  40.000000  54.0\n",
       "368  369  36.000000  40.000000  58.0\n",
       "\n",
       "[369 rows x 4 columns]"
      ]
     },
     "execution_count": 10,
     "metadata": {},
     "output_type": "execute_result"
    }
   ],
   "source": [
    "arac_veriler"
   ]
  },
  {
   "cell_type": "code",
   "execution_count": 12,
   "id": "6e99ada1",
   "metadata": {},
   "outputs": [],
   "source": [
    "sutun_isimleri = ['ID','HIZ','FRENBASINCI','EGIM']\n",
    "arac_veriler.columns = sutun_isimleri"
   ]
  },
  {
   "cell_type": "code",
   "execution_count": 14,
   "id": "6ff3c644",
   "metadata": {},
   "outputs": [],
   "source": [
    "arac_veriler.drop('ID',axis=1, inplace=True)"
   ]
  },
  {
   "cell_type": "code",
   "execution_count": 15,
   "id": "30f51c3c",
   "metadata": {},
   "outputs": [
    {
     "data": {
      "text/html": [
       "<div>\n",
       "<style scoped>\n",
       "    .dataframe tbody tr th:only-of-type {\n",
       "        vertical-align: middle;\n",
       "    }\n",
       "\n",
       "    .dataframe tbody tr th {\n",
       "        vertical-align: top;\n",
       "    }\n",
       "\n",
       "    .dataframe thead th {\n",
       "        text-align: right;\n",
       "    }\n",
       "</style>\n",
       "<table border=\"1\" class=\"dataframe\">\n",
       "  <thead>\n",
       "    <tr style=\"text-align: right;\">\n",
       "      <th></th>\n",
       "      <th>HIZ</th>\n",
       "      <th>FRENBASINCI</th>\n",
       "      <th>EGIM</th>\n",
       "    </tr>\n",
       "  </thead>\n",
       "  <tbody>\n",
       "    <tr>\n",
       "      <th>0</th>\n",
       "      <td>50.400000</td>\n",
       "      <td>60.600000</td>\n",
       "      <td>25.7</td>\n",
       "    </tr>\n",
       "    <tr>\n",
       "      <th>1</th>\n",
       "      <td>13.483539</td>\n",
       "      <td>73.032922</td>\n",
       "      <td>36.0</td>\n",
       "    </tr>\n",
       "    <tr>\n",
       "      <th>2</th>\n",
       "      <td>8.037356</td>\n",
       "      <td>83.925287</td>\n",
       "      <td>45.0</td>\n",
       "    </tr>\n",
       "    <tr>\n",
       "      <th>3</th>\n",
       "      <td>38.400000</td>\n",
       "      <td>60.000000</td>\n",
       "      <td>7.0</td>\n",
       "    </tr>\n",
       "    <tr>\n",
       "      <th>4</th>\n",
       "      <td>59.400000</td>\n",
       "      <td>40.000000</td>\n",
       "      <td>41.0</td>\n",
       "    </tr>\n",
       "    <tr>\n",
       "      <th>...</th>\n",
       "      <td>...</td>\n",
       "      <td>...</td>\n",
       "      <td>...</td>\n",
       "    </tr>\n",
       "    <tr>\n",
       "      <th>364</th>\n",
       "      <td>6.925000</td>\n",
       "      <td>84.611111</td>\n",
       "      <td>48.0</td>\n",
       "    </tr>\n",
       "    <tr>\n",
       "      <th>365</th>\n",
       "      <td>33.600000</td>\n",
       "      <td>40.000000</td>\n",
       "      <td>8.0</td>\n",
       "    </tr>\n",
       "    <tr>\n",
       "      <th>366</th>\n",
       "      <td>18.815000</td>\n",
       "      <td>64.500000</td>\n",
       "      <td>44.0</td>\n",
       "    </tr>\n",
       "    <tr>\n",
       "      <th>367</th>\n",
       "      <td>25.200000</td>\n",
       "      <td>40.000000</td>\n",
       "      <td>54.0</td>\n",
       "    </tr>\n",
       "    <tr>\n",
       "      <th>368</th>\n",
       "      <td>36.000000</td>\n",
       "      <td>40.000000</td>\n",
       "      <td>58.0</td>\n",
       "    </tr>\n",
       "  </tbody>\n",
       "</table>\n",
       "<p>369 rows × 3 columns</p>\n",
       "</div>"
      ],
      "text/plain": [
       "           HIZ  FRENBASINCI  EGIM\n",
       "0    50.400000    60.600000  25.7\n",
       "1    13.483539    73.032922  36.0\n",
       "2     8.037356    83.925287  45.0\n",
       "3    38.400000    60.000000   7.0\n",
       "4    59.400000    40.000000  41.0\n",
       "..         ...          ...   ...\n",
       "364   6.925000    84.611111  48.0\n",
       "365  33.600000    40.000000   8.0\n",
       "366  18.815000    64.500000  44.0\n",
       "367  25.200000    40.000000  54.0\n",
       "368  36.000000    40.000000  58.0\n",
       "\n",
       "[369 rows x 3 columns]"
      ]
     },
     "execution_count": 15,
     "metadata": {},
     "output_type": "execute_result"
    }
   ],
   "source": [
    "arac_veriler"
   ]
  },
  {
   "cell_type": "markdown",
   "id": "74e1b358",
   "metadata": {},
   "source": [
    "### Aşağıda ise araç verilerinin birbirleri arasında korelasyonunu inceledik. Aldığımız sonuçlara göre gözle görülen sonuçlara bilimsel olarakta onaylayarak fren basıncının hızı hızın da fren basıncını %82 oranında olumsuz etkilediği sonucuna vardık. Eğimin ise hızı olumsuz etkilerken fren basıncını olumlu etkilediği sonucuna ulaştık.\n"
   ]
  },
  {
   "cell_type": "code",
   "execution_count": 16,
   "id": "3a6c393d",
   "metadata": {},
   "outputs": [
    {
     "data": {
      "text/html": [
       "<div>\n",
       "<style scoped>\n",
       "    .dataframe tbody tr th:only-of-type {\n",
       "        vertical-align: middle;\n",
       "    }\n",
       "\n",
       "    .dataframe tbody tr th {\n",
       "        vertical-align: top;\n",
       "    }\n",
       "\n",
       "    .dataframe thead th {\n",
       "        text-align: right;\n",
       "    }\n",
       "</style>\n",
       "<table border=\"1\" class=\"dataframe\">\n",
       "  <thead>\n",
       "    <tr style=\"text-align: right;\">\n",
       "      <th></th>\n",
       "      <th>HIZ</th>\n",
       "      <th>FRENBASINCI</th>\n",
       "      <th>EGIM</th>\n",
       "    </tr>\n",
       "  </thead>\n",
       "  <tbody>\n",
       "    <tr>\n",
       "      <th>HIZ</th>\n",
       "      <td>1.000000</td>\n",
       "      <td>-0.825292</td>\n",
       "      <td>-0.025291</td>\n",
       "    </tr>\n",
       "    <tr>\n",
       "      <th>FRENBASINCI</th>\n",
       "      <td>-0.825292</td>\n",
       "      <td>1.000000</td>\n",
       "      <td>0.021951</td>\n",
       "    </tr>\n",
       "    <tr>\n",
       "      <th>EGIM</th>\n",
       "      <td>-0.025291</td>\n",
       "      <td>0.021951</td>\n",
       "      <td>1.000000</td>\n",
       "    </tr>\n",
       "  </tbody>\n",
       "</table>\n",
       "</div>"
      ],
      "text/plain": [
       "                  HIZ  FRENBASINCI      EGIM\n",
       "HIZ          1.000000    -0.825292 -0.025291\n",
       "FRENBASINCI -0.825292     1.000000  0.021951\n",
       "EGIM        -0.025291     0.021951  1.000000"
      ]
     },
     "execution_count": 16,
     "metadata": {},
     "output_type": "execute_result"
    }
   ],
   "source": [
    "arac_veriler.corr()"
   ]
  },
  {
   "cell_type": "markdown",
   "id": "3840e99a",
   "metadata": {},
   "source": [
    "## Yapay Zekanın Kodlanması ve Uygulanması Süreci\n",
    "\n",
    "#### İlk olarak girdi ve çıktıları oluşturuyoruz. Girdilerimiz hız ve eğim"
   ]
  },
  {
   "cell_type": "code",
   "execution_count": 17,
   "id": "4d8d77d9",
   "metadata": {},
   "outputs": [],
   "source": [
    "x = arac_veriler.drop(\"FRENBASINCI\", axis = 1).values"
   ]
  },
  {
   "cell_type": "markdown",
   "id": "2d8968fc",
   "metadata": {},
   "source": [
    "#### Çıktımız ise fren basıncı"
   ]
  },
  {
   "cell_type": "code",
   "execution_count": 19,
   "id": "92ab6a56",
   "metadata": {},
   "outputs": [],
   "source": [
    "y = arac_veriler[\"FRENBASINCI\"].values"
   ]
  },
  {
   "cell_type": "markdown",
   "id": "ffe1155a",
   "metadata": {},
   "source": [
    "### TEST ve Train dosylarını ayırma işlemi"
   ]
  },
  {
   "cell_type": "code",
   "execution_count": 48,
   "id": "212ecec8",
   "metadata": {},
   "outputs": [],
   "source": [
    "x_train, x_test, y_train, y_test = train_test_split(x, y, test_size=0.2, random_state=10)"
   ]
  },
  {
   "cell_type": "markdown",
   "id": "53d9ded6",
   "metadata": {},
   "source": [
    "### Verileri standartlaştırma, ölçeklendirme işlemi (scaling işlemi)"
   ]
  },
  {
   "cell_type": "code",
   "execution_count": 49,
   "id": "18d558c4",
   "metadata": {},
   "outputs": [],
   "source": [
    "from sklearn.preprocessing import MinMaxScaler"
   ]
  },
  {
   "cell_type": "code",
   "execution_count": 50,
   "id": "67499b35",
   "metadata": {},
   "outputs": [],
   "source": [
    "scaler = MinMaxScaler()"
   ]
  },
  {
   "cell_type": "code",
   "execution_count": 51,
   "id": "6bba8828",
   "metadata": {},
   "outputs": [],
   "source": [
    "x_train = scaler.fit_transform(x_train)"
   ]
  },
  {
   "cell_type": "code",
   "execution_count": 52,
   "id": "133fa8a5",
   "metadata": {},
   "outputs": [],
   "source": [
    "x_test = scaler.fit_transform(x_test)"
   ]
  },
  {
   "cell_type": "markdown",
   "id": "6a2fbc93",
   "metadata": {},
   "source": [
    "## YAPAY ZEKA EĞİTİM SÜRECİ BAŞLIYOR!"
   ]
  },
  {
   "cell_type": "code",
   "execution_count": 53,
   "id": "e57ace0d",
   "metadata": {},
   "outputs": [
    {
     "data": {
      "text/plain": [
       "(295, 2)"
      ]
     },
     "execution_count": 53,
     "metadata": {},
     "output_type": "execute_result"
    }
   ],
   "source": [
    "x_train.shape"
   ]
  },
  {
   "cell_type": "code",
   "execution_count": 54,
   "id": "877e2fa4",
   "metadata": {},
   "outputs": [],
   "source": [
    "model = Sequential()\n",
    "\n",
    "# katman ekleyelim şimdi\n",
    "model.add(Dense(6, activation=\"relu\"))\n",
    "model.add(Dense(6, activation=\"relu\"))\n",
    "model.add(Dense(6, activation=\"relu\"))\n",
    "model.add(Dense(6, activation=\"relu\"))\n",
    "\n",
    "# çıkış katmanı ekleyeceğiz.\n",
    "model.add(Dense(1))\n",
    "\n",
    "# compile ederken optimizer seçmek lazım \"adam\" en iyisi\n",
    "model.compile(optimizer=\"adam\", loss=\"mse\")"
   ]
  },
  {
   "cell_type": "code",
   "execution_count": 55,
   "id": "6f4fecb5",
   "metadata": {},
   "outputs": [
    {
     "name": "stdout",
     "output_type": "stream",
     "text": [
      "Epoch 1/200\n",
      "20/20 [==============================] - 0s 5ms/step - loss: 3185.3293 - val_loss: 3262.9370\n",
      "Epoch 2/200\n",
      "20/20 [==============================] - 0s 947us/step - loss: 3179.6062 - val_loss: 3257.5776\n",
      "Epoch 3/200\n",
      "20/20 [==============================] - 0s 947us/step - loss: 3173.9678 - val_loss: 3251.3740\n",
      "Epoch 4/200\n",
      "20/20 [==============================] - 0s 947us/step - loss: 3167.1931 - val_loss: 3243.3015\n",
      "Epoch 5/200\n",
      "20/20 [==============================] - 0s 898us/step - loss: 3157.8193 - val_loss: 3232.4087\n",
      "Epoch 6/200\n",
      "20/20 [==============================] - 0s 898us/step - loss: 3145.2153 - val_loss: 3217.5688\n",
      "Epoch 7/200\n",
      "20/20 [==============================] - 0s 898us/step - loss: 3128.1389 - val_loss: 3197.3108\n",
      "Epoch 8/200\n",
      "20/20 [==============================] - 0s 898us/step - loss: 3104.7786 - val_loss: 3169.7368\n",
      "Epoch 9/200\n",
      "20/20 [==============================] - 0s 898us/step - loss: 3072.8918 - val_loss: 3132.5728\n",
      "Epoch 10/200\n",
      "20/20 [==============================] - 0s 898us/step - loss: 3030.6240 - val_loss: 3083.0876\n",
      "Epoch 11/200\n",
      "20/20 [==============================] - 0s 898us/step - loss: 2974.8745 - val_loss: 3018.9773\n",
      "Epoch 12/200\n",
      "20/20 [==============================] - 0s 848us/step - loss: 2903.1599 - val_loss: 2936.5962\n",
      "Epoch 13/200\n",
      "20/20 [==============================] - 0s 898us/step - loss: 2811.5066 - val_loss: 2832.8257\n",
      "Epoch 14/200\n",
      "20/20 [==============================] - 0s 898us/step - loss: 2695.5889 - val_loss: 2703.9414\n",
      "Epoch 15/200\n",
      "20/20 [==============================] - 0s 848us/step - loss: 2554.2852 - val_loss: 2544.7488\n",
      "Epoch 16/200\n",
      "20/20 [==============================] - 0s 898us/step - loss: 2380.9697 - val_loss: 2357.3779\n",
      "Epoch 17/200\n",
      "20/20 [==============================] - 0s 898us/step - loss: 2180.0962 - val_loss: 2140.5845\n",
      "Epoch 18/200\n",
      "20/20 [==============================] - 0s 898us/step - loss: 1948.0225 - val_loss: 1888.0122\n",
      "Epoch 19/200\n",
      "20/20 [==============================] - 0s 898us/step - loss: 1678.6235 - val_loss: 1606.0052\n",
      "Epoch 20/200\n",
      "20/20 [==============================] - 0s 947us/step - loss: 1390.2417 - val_loss: 1312.8254\n",
      "Epoch 21/200\n",
      "20/20 [==============================] - 0s 898us/step - loss: 1106.4467 - val_loss: 1039.4409\n",
      "Epoch 22/200\n",
      "20/20 [==============================] - 0s 848us/step - loss: 863.2069 - val_loss: 830.6035\n",
      "Epoch 23/200\n",
      "20/20 [==============================] - 0s 898us/step - loss: 697.8692 - val_loss: 708.2333\n",
      "Epoch 24/200\n",
      "20/20 [==============================] - 0s 898us/step - loss: 612.5929 - val_loss: 656.1591\n",
      "Epoch 25/200\n",
      "20/20 [==============================] - 0s 898us/step - loss: 583.0156 - val_loss: 637.4717\n",
      "Epoch 26/200\n",
      "20/20 [==============================] - 0s 898us/step - loss: 573.0063 - val_loss: 627.9323\n",
      "Epoch 27/200\n",
      "20/20 [==============================] - 0s 898us/step - loss: 566.1168 - val_loss: 620.7398\n",
      "Epoch 28/200\n",
      "20/20 [==============================] - 0s 947us/step - loss: 559.5311 - val_loss: 613.9016\n",
      "Epoch 29/200\n",
      "20/20 [==============================] - 0s 898us/step - loss: 553.8163 - val_loss: 607.2985\n",
      "Epoch 30/200\n",
      "20/20 [==============================] - 0s 898us/step - loss: 547.8929 - val_loss: 600.8464\n",
      "Epoch 31/200\n",
      "20/20 [==============================] - 0s 848us/step - loss: 542.6776 - val_loss: 594.1279\n",
      "Epoch 32/200\n",
      "20/20 [==============================] - 0s 848us/step - loss: 537.0800 - val_loss: 588.2594\n",
      "Epoch 33/200\n",
      "20/20 [==============================] - 0s 848us/step - loss: 531.3027 - val_loss: 582.4929\n",
      "Epoch 34/200\n",
      "20/20 [==============================] - 0s 898us/step - loss: 527.0255 - val_loss: 576.8260\n",
      "Epoch 35/200\n",
      "20/20 [==============================] - 0s 898us/step - loss: 520.8728 - val_loss: 570.0611\n",
      "Epoch 36/200\n",
      "20/20 [==============================] - 0s 898us/step - loss: 515.7152 - val_loss: 564.2020\n",
      "Epoch 37/200\n",
      "20/20 [==============================] - 0s 898us/step - loss: 510.0886 - val_loss: 558.3209\n",
      "Epoch 38/200\n",
      "20/20 [==============================] - 0s 898us/step - loss: 504.8208 - val_loss: 552.4649\n",
      "Epoch 39/200\n",
      "20/20 [==============================] - 0s 898us/step - loss: 500.3661 - val_loss: 546.5514\n",
      "Epoch 40/200\n",
      "20/20 [==============================] - 0s 898us/step - loss: 495.0500 - val_loss: 540.9188\n",
      "Epoch 41/200\n",
      "20/20 [==============================] - 0s 898us/step - loss: 490.4310 - val_loss: 535.6331\n",
      "Epoch 42/200\n",
      "20/20 [==============================] - 0s 898us/step - loss: 485.0976 - val_loss: 530.2120\n",
      "Epoch 43/200\n",
      "20/20 [==============================] - 0s 898us/step - loss: 479.9061 - val_loss: 524.2738\n",
      "Epoch 44/200\n",
      "20/20 [==============================] - 0s 898us/step - loss: 475.3585 - val_loss: 518.5343\n",
      "Epoch 45/200\n",
      "20/20 [==============================] - 0s 898us/step - loss: 470.9592 - val_loss: 513.6022\n",
      "Epoch 46/200\n",
      "20/20 [==============================] - 0s 909us/step - loss: 465.4980 - val_loss: 507.5231\n",
      "Epoch 47/200\n",
      "20/20 [==============================] - 0s 898us/step - loss: 461.1007 - val_loss: 501.9850\n",
      "Epoch 48/200\n",
      "20/20 [==============================] - 0s 898us/step - loss: 455.5620 - val_loss: 496.5112\n",
      "Epoch 49/200\n",
      "20/20 [==============================] - 0s 898us/step - loss: 450.9902 - val_loss: 491.5041\n",
      "Epoch 50/200\n",
      "20/20 [==============================] - 0s 948us/step - loss: 446.0176 - val_loss: 485.5176\n",
      "Epoch 51/200\n",
      "20/20 [==============================] - 0s 898us/step - loss: 441.1473 - val_loss: 480.2412\n",
      "Epoch 52/200\n",
      "20/20 [==============================] - 0s 848us/step - loss: 436.3631 - val_loss: 474.8340\n",
      "Epoch 53/200\n",
      "20/20 [==============================] - 0s 898us/step - loss: 431.9518 - val_loss: 469.4245\n",
      "Epoch 54/200\n",
      "20/20 [==============================] - 0s 947us/step - loss: 426.7839 - val_loss: 464.0095\n",
      "Epoch 55/200\n",
      "20/20 [==============================] - 0s 898us/step - loss: 422.0573 - val_loss: 459.0650\n",
      "Epoch 56/200\n",
      "20/20 [==============================] - 0s 898us/step - loss: 416.8686 - val_loss: 453.5373\n",
      "Epoch 57/200\n",
      "20/20 [==============================] - 0s 898us/step - loss: 413.2556 - val_loss: 447.6989\n",
      "Epoch 58/200\n",
      "20/20 [==============================] - 0s 947us/step - loss: 407.3478 - val_loss: 442.4529\n",
      "Epoch 59/200\n",
      "20/20 [==============================] - 0s 848us/step - loss: 402.3835 - val_loss: 437.1523\n",
      "Epoch 60/200\n",
      "20/20 [==============================] - 0s 898us/step - loss: 397.6415 - val_loss: 431.9072\n",
      "Epoch 61/200\n",
      "20/20 [==============================] - 0s 898us/step - loss: 393.2259 - val_loss: 427.0122\n",
      "Epoch 62/200\n",
      "20/20 [==============================] - 0s 848us/step - loss: 387.5375 - val_loss: 420.7605\n",
      "Epoch 63/200\n",
      "20/20 [==============================] - 0s 898us/step - loss: 383.0878 - val_loss: 415.1963\n",
      "Epoch 64/200\n",
      "20/20 [==============================] - 0s 898us/step - loss: 377.9215 - val_loss: 410.1864\n",
      "Epoch 65/200\n",
      "20/20 [==============================] - 0s 898us/step - loss: 373.7409 - val_loss: 405.0302\n",
      "Epoch 66/200\n",
      "20/20 [==============================] - 0s 947us/step - loss: 368.4053 - val_loss: 399.2411\n",
      "Epoch 67/200\n",
      "20/20 [==============================] - 0s 898us/step - loss: 363.1056 - val_loss: 393.3686\n",
      "Epoch 68/200\n",
      "20/20 [==============================] - 0s 1ms/step - loss: 358.0616 - val_loss: 387.9779\n",
      "Epoch 69/200\n",
      "20/20 [==============================] - 0s 898us/step - loss: 352.6955 - val_loss: 382.3454\n",
      "Epoch 70/200\n",
      "20/20 [==============================] - 0s 947us/step - loss: 348.0515 - val_loss: 376.5792\n",
      "Epoch 71/200\n",
      "20/20 [==============================] - 0s 898us/step - loss: 342.8441 - val_loss: 371.5364\n",
      "Epoch 72/200\n",
      "20/20 [==============================] - 0s 947us/step - loss: 338.4269 - val_loss: 365.2802\n",
      "Epoch 73/200\n",
      "20/20 [==============================] - 0s 947us/step - loss: 332.5013 - val_loss: 359.9671\n",
      "Epoch 74/200\n",
      "20/20 [==============================] - 0s 898us/step - loss: 327.4489 - val_loss: 353.7147\n",
      "Epoch 75/200\n",
      "20/20 [==============================] - 0s 898us/step - loss: 322.1836 - val_loss: 348.2454\n",
      "Epoch 76/200\n",
      "20/20 [==============================] - 0s 947us/step - loss: 317.5184 - val_loss: 342.4542\n",
      "Epoch 77/200\n",
      "20/20 [==============================] - 0s 947us/step - loss: 312.4054 - val_loss: 336.6151\n",
      "Epoch 78/200\n"
     ]
    },
    {
     "name": "stdout",
     "output_type": "stream",
     "text": [
      "20/20 [==============================] - 0s 947us/step - loss: 307.5607 - val_loss: 330.9183\n",
      "Epoch 79/200\n",
      "20/20 [==============================] - 0s 898us/step - loss: 302.8438 - val_loss: 325.3252\n",
      "Epoch 80/200\n",
      "20/20 [==============================] - 0s 898us/step - loss: 297.8318 - val_loss: 319.0096\n",
      "Epoch 81/200\n",
      "20/20 [==============================] - 0s 848us/step - loss: 292.4554 - val_loss: 313.7026\n",
      "Epoch 82/200\n",
      "20/20 [==============================] - 0s 848us/step - loss: 288.0287 - val_loss: 308.2448\n",
      "Epoch 83/200\n",
      "20/20 [==============================] - 0s 898us/step - loss: 283.4091 - val_loss: 301.8727\n",
      "Epoch 84/200\n",
      "20/20 [==============================] - 0s 848us/step - loss: 277.8678 - val_loss: 296.2534\n",
      "Epoch 85/200\n",
      "20/20 [==============================] - 0s 848us/step - loss: 273.0538 - val_loss: 290.5648\n",
      "Epoch 86/200\n",
      "20/20 [==============================] - 0s 848us/step - loss: 269.7765 - val_loss: 284.1671\n",
      "Epoch 87/200\n",
      "20/20 [==============================] - 0s 848us/step - loss: 263.4133 - val_loss: 279.0814\n",
      "Epoch 88/200\n",
      "20/20 [==============================] - 0s 898us/step - loss: 259.2594 - val_loss: 273.3865\n",
      "Epoch 89/200\n",
      "20/20 [==============================] - 0s 898us/step - loss: 255.6429 - val_loss: 268.2654\n",
      "Epoch 90/200\n",
      "20/20 [==============================] - 0s 898us/step - loss: 250.6338 - val_loss: 262.8631\n",
      "Epoch 91/200\n",
      "20/20 [==============================] - 0s 898us/step - loss: 246.5980 - val_loss: 257.5749\n",
      "Epoch 92/200\n",
      "20/20 [==============================] - 0s 848us/step - loss: 243.0324 - val_loss: 253.0497\n",
      "Epoch 93/200\n",
      "20/20 [==============================] - 0s 898us/step - loss: 238.6178 - val_loss: 247.6144\n",
      "Epoch 94/200\n",
      "20/20 [==============================] - 0s 898us/step - loss: 234.9276 - val_loss: 242.7371\n",
      "Epoch 95/200\n",
      "20/20 [==============================] - 0s 898us/step - loss: 231.5259 - val_loss: 237.7337\n",
      "Epoch 96/200\n",
      "20/20 [==============================] - 0s 898us/step - loss: 227.9490 - val_loss: 233.8173\n",
      "Epoch 97/200\n",
      "20/20 [==============================] - 0s 898us/step - loss: 224.6683 - val_loss: 227.9196\n",
      "Epoch 98/200\n",
      "20/20 [==============================] - 0s 898us/step - loss: 220.0824 - val_loss: 223.7077\n",
      "Epoch 99/200\n",
      "20/20 [==============================] - 0s 898us/step - loss: 216.1549 - val_loss: 218.1338\n",
      "Epoch 100/200\n",
      "20/20 [==============================] - 0s 848us/step - loss: 210.3088 - val_loss: 209.3624\n",
      "Epoch 101/200\n",
      "20/20 [==============================] - 0s 898us/step - loss: 204.2857 - val_loss: 202.0650\n",
      "Epoch 102/200\n",
      "20/20 [==============================] - 0s 898us/step - loss: 198.9277 - val_loss: 195.2012\n",
      "Epoch 103/200\n",
      "20/20 [==============================] - 0s 898us/step - loss: 193.4797 - val_loss: 188.7023\n",
      "Epoch 104/200\n",
      "20/20 [==============================] - 0s 898us/step - loss: 189.0141 - val_loss: 182.9240\n",
      "Epoch 105/200\n",
      "20/20 [==============================] - 0s 848us/step - loss: 184.4993 - val_loss: 177.9622\n",
      "Epoch 106/200\n",
      "20/20 [==============================] - 0s 898us/step - loss: 181.1968 - val_loss: 172.7702\n",
      "Epoch 107/200\n",
      "20/20 [==============================] - 0s 848us/step - loss: 177.8268 - val_loss: 167.5020\n",
      "Epoch 108/200\n",
      "20/20 [==============================] - 0s 898us/step - loss: 173.9213 - val_loss: 162.9939\n",
      "Epoch 109/200\n",
      "20/20 [==============================] - 0s 898us/step - loss: 170.9995 - val_loss: 158.6748\n",
      "Epoch 110/200\n",
      "20/20 [==============================] - 0s 848us/step - loss: 167.9117 - val_loss: 154.4609\n",
      "Epoch 111/200\n",
      "20/20 [==============================] - 0s 898us/step - loss: 165.3300 - val_loss: 150.9509\n",
      "Epoch 112/200\n",
      "20/20 [==============================] - 0s 898us/step - loss: 162.9130 - val_loss: 147.1020\n",
      "Epoch 113/200\n",
      "20/20 [==============================] - 0s 898us/step - loss: 160.6898 - val_loss: 143.8334\n",
      "Epoch 114/200\n",
      "20/20 [==============================] - 0s 898us/step - loss: 159.6202 - val_loss: 140.5403\n",
      "Epoch 115/200\n",
      "20/20 [==============================] - 0s 848us/step - loss: 156.4933 - val_loss: 137.8313\n",
      "Epoch 116/200\n",
      "20/20 [==============================] - 0s 848us/step - loss: 154.7997 - val_loss: 135.4835\n",
      "Epoch 117/200\n",
      "20/20 [==============================] - 0s 848us/step - loss: 153.3836 - val_loss: 132.8440\n",
      "Epoch 118/200\n",
      "20/20 [==============================] - 0s 898us/step - loss: 151.7133 - val_loss: 130.9814\n",
      "Epoch 119/200\n",
      "20/20 [==============================] - 0s 848us/step - loss: 150.1559 - val_loss: 128.6362\n",
      "Epoch 120/200\n",
      "20/20 [==============================] - 0s 898us/step - loss: 149.1525 - val_loss: 126.8181\n",
      "Epoch 121/200\n",
      "20/20 [==============================] - 0s 947us/step - loss: 147.6202 - val_loss: 125.0168\n",
      "Epoch 122/200\n",
      "20/20 [==============================] - 0s 848us/step - loss: 146.4528 - val_loss: 123.6157\n",
      "Epoch 123/200\n",
      "20/20 [==============================] - 0s 898us/step - loss: 145.4194 - val_loss: 121.7794\n",
      "Epoch 124/200\n",
      "20/20 [==============================] - 0s 898us/step - loss: 144.4652 - val_loss: 120.5311\n",
      "Epoch 125/200\n",
      "20/20 [==============================] - 0s 898us/step - loss: 143.9756 - val_loss: 118.9933\n",
      "Epoch 126/200\n",
      "20/20 [==============================] - 0s 848us/step - loss: 142.6645 - val_loss: 118.2158\n",
      "Epoch 127/200\n",
      "20/20 [==============================] - 0s 898us/step - loss: 142.4565 - val_loss: 116.9984\n",
      "Epoch 128/200\n",
      "20/20 [==============================] - 0s 848us/step - loss: 141.4767 - val_loss: 116.5988\n",
      "Epoch 129/200\n",
      "20/20 [==============================] - 0s 848us/step - loss: 140.8862 - val_loss: 115.1250\n",
      "Epoch 130/200\n",
      "20/20 [==============================] - 0s 898us/step - loss: 140.2277 - val_loss: 114.3096\n",
      "Epoch 131/200\n",
      "20/20 [==============================] - 0s 898us/step - loss: 140.0481 - val_loss: 113.5555\n",
      "Epoch 132/200\n",
      "20/20 [==============================] - 0s 947us/step - loss: 139.0473 - val_loss: 113.0097\n",
      "Epoch 133/200\n",
      "20/20 [==============================] - 0s 947us/step - loss: 140.3414 - val_loss: 112.0869\n",
      "Epoch 134/200\n",
      "20/20 [==============================] - 0s 898us/step - loss: 139.1861 - val_loss: 112.6720\n",
      "Epoch 135/200\n",
      "20/20 [==============================] - 0s 898us/step - loss: 138.2925 - val_loss: 111.0494\n",
      "Epoch 136/200\n",
      "20/20 [==============================] - 0s 848us/step - loss: 137.3362 - val_loss: 110.7623\n",
      "Epoch 137/200\n",
      "20/20 [==============================] - 0s 898us/step - loss: 137.2460 - val_loss: 110.1299\n",
      "Epoch 138/200\n",
      "20/20 [==============================] - 0s 898us/step - loss: 136.7588 - val_loss: 110.3229\n",
      "Epoch 139/200\n",
      "20/20 [==============================] - 0s 947us/step - loss: 136.4223 - val_loss: 109.6846\n",
      "Epoch 140/200\n",
      "20/20 [==============================] - 0s 898us/step - loss: 136.4210 - val_loss: 109.2467\n",
      "Epoch 141/200\n",
      "20/20 [==============================] - 0s 848us/step - loss: 135.8838 - val_loss: 109.0755\n",
      "Epoch 142/200\n",
      "20/20 [==============================] - 0s 898us/step - loss: 135.6698 - val_loss: 108.8740\n",
      "Epoch 143/200\n",
      "20/20 [==============================] - 0s 898us/step - loss: 136.1335 - val_loss: 108.3751\n",
      "Epoch 144/200\n",
      "20/20 [==============================] - 0s 898us/step - loss: 135.3370 - val_loss: 108.2903\n",
      "Epoch 145/200\n",
      "20/20 [==============================] - 0s 898us/step - loss: 134.9959 - val_loss: 107.9833\n",
      "Epoch 146/200\n",
      "20/20 [==============================] - 0s 898us/step - loss: 134.9979 - val_loss: 107.7616\n",
      "Epoch 147/200\n",
      "20/20 [==============================] - 0s 898us/step - loss: 134.7008 - val_loss: 107.9667\n",
      "Epoch 148/200\n",
      "20/20 [==============================] - 0s 848us/step - loss: 134.5708 - val_loss: 107.5415\n",
      "Epoch 149/200\n",
      "20/20 [==============================] - 0s 848us/step - loss: 134.3094 - val_loss: 107.6205\n",
      "Epoch 150/200\n",
      "20/20 [==============================] - 0s 898us/step - loss: 134.2439 - val_loss: 107.3288\n",
      "Epoch 151/200\n",
      "20/20 [==============================] - 0s 848us/step - loss: 135.1054 - val_loss: 107.0453\n",
      "Epoch 152/200\n",
      "20/20 [==============================] - 0s 898us/step - loss: 136.4470 - val_loss: 107.3909\n",
      "Epoch 153/200\n",
      "20/20 [==============================] - 0s 898us/step - loss: 136.1179 - val_loss: 106.9974\n",
      "Epoch 154/200\n",
      "20/20 [==============================] - 0s 898us/step - loss: 134.3117 - val_loss: 107.7714\n"
     ]
    },
    {
     "name": "stdout",
     "output_type": "stream",
     "text": [
      "Epoch 155/200\n",
      "20/20 [==============================] - 0s 898us/step - loss: 134.2551 - val_loss: 106.6231\n",
      "Epoch 156/200\n",
      "20/20 [==============================] - 0s 898us/step - loss: 134.0932 - val_loss: 106.8942\n",
      "Epoch 157/200\n",
      "20/20 [==============================] - 0s 898us/step - loss: 133.9304 - val_loss: 106.7202\n",
      "Epoch 158/200\n",
      "20/20 [==============================] - 0s 898us/step - loss: 134.0707 - val_loss: 106.6771\n",
      "Epoch 159/200\n",
      "20/20 [==============================] - 0s 898us/step - loss: 133.3966 - val_loss: 106.5511\n",
      "Epoch 160/200\n",
      "20/20 [==============================] - 0s 898us/step - loss: 133.5184 - val_loss: 106.4409\n",
      "Epoch 161/200\n",
      "20/20 [==============================] - 0s 898us/step - loss: 133.4969 - val_loss: 106.2959\n",
      "Epoch 162/200\n",
      "20/20 [==============================] - 0s 848us/step - loss: 134.2212 - val_loss: 106.5580\n",
      "Epoch 163/200\n",
      "20/20 [==============================] - 0s 898us/step - loss: 133.3154 - val_loss: 106.2851\n",
      "Epoch 164/200\n",
      "20/20 [==============================] - 0s 898us/step - loss: 133.3216 - val_loss: 106.3075\n",
      "Epoch 165/200\n",
      "20/20 [==============================] - 0s 898us/step - loss: 133.3674 - val_loss: 106.1709\n",
      "Epoch 166/200\n",
      "20/20 [==============================] - 0s 898us/step - loss: 133.2670 - val_loss: 106.1432\n",
      "Epoch 167/200\n",
      "20/20 [==============================] - 0s 898us/step - loss: 133.1121 - val_loss: 106.2458\n",
      "Epoch 168/200\n",
      "20/20 [==============================] - 0s 898us/step - loss: 133.0757 - val_loss: 106.6829\n",
      "Epoch 169/200\n",
      "20/20 [==============================] - 0s 898us/step - loss: 133.8669 - val_loss: 106.1465\n",
      "Epoch 170/200\n",
      "20/20 [==============================] - 0s 848us/step - loss: 133.2344 - val_loss: 106.2244\n",
      "Epoch 171/200\n",
      "20/20 [==============================] - 0s 898us/step - loss: 133.3759 - val_loss: 106.2748\n",
      "Epoch 172/200\n",
      "20/20 [==============================] - 0s 848us/step - loss: 132.8356 - val_loss: 106.1025\n",
      "Epoch 173/200\n",
      "20/20 [==============================] - 0s 898us/step - loss: 132.9164 - val_loss: 106.1166\n",
      "Epoch 174/200\n",
      "20/20 [==============================] - 0s 898us/step - loss: 133.2570 - val_loss: 106.4295\n",
      "Epoch 175/200\n",
      "20/20 [==============================] - 0s 898us/step - loss: 133.1977 - val_loss: 105.8518\n",
      "Epoch 176/200\n",
      "20/20 [==============================] - 0s 898us/step - loss: 133.2111 - val_loss: 105.9518\n",
      "Epoch 177/200\n",
      "20/20 [==============================] - 0s 848us/step - loss: 133.1414 - val_loss: 105.8969\n",
      "Epoch 178/200\n",
      "20/20 [==============================] - 0s 848us/step - loss: 132.8952 - val_loss: 106.0618\n",
      "Epoch 179/200\n",
      "20/20 [==============================] - 0s 848us/step - loss: 132.8332 - val_loss: 105.9506\n",
      "Epoch 180/200\n",
      "20/20 [==============================] - 0s 898us/step - loss: 132.9738 - val_loss: 106.0609\n",
      "Epoch 181/200\n",
      "20/20 [==============================] - 0s 898us/step - loss: 132.7907 - val_loss: 105.9578\n",
      "Epoch 182/200\n",
      "20/20 [==============================] - 0s 947us/step - loss: 132.6903 - val_loss: 105.9950\n",
      "Epoch 183/200\n",
      "20/20 [==============================] - 0s 898us/step - loss: 132.8633 - val_loss: 105.8935\n",
      "Epoch 184/200\n",
      "20/20 [==============================] - 0s 898us/step - loss: 132.6692 - val_loss: 105.8973\n",
      "Epoch 185/200\n",
      "20/20 [==============================] - 0s 898us/step - loss: 132.6579 - val_loss: 105.9269\n",
      "Epoch 186/200\n",
      "20/20 [==============================] - 0s 898us/step - loss: 132.8592 - val_loss: 105.9038\n",
      "Epoch 187/200\n",
      "20/20 [==============================] - 0s 898us/step - loss: 132.7426 - val_loss: 105.9167\n",
      "Epoch 188/200\n",
      "20/20 [==============================] - 0s 947us/step - loss: 133.0420 - val_loss: 105.8491\n",
      "Epoch 189/200\n",
      "20/20 [==============================] - 0s 898us/step - loss: 132.8740 - val_loss: 106.0758\n",
      "Epoch 190/200\n",
      "20/20 [==============================] - 0s 898us/step - loss: 132.7560 - val_loss: 105.7848\n",
      "Epoch 191/200\n",
      "20/20 [==============================] - 0s 898us/step - loss: 132.9197 - val_loss: 105.9267\n",
      "Epoch 192/200\n",
      "20/20 [==============================] - 0s 898us/step - loss: 132.5299 - val_loss: 106.2113\n",
      "Epoch 193/200\n",
      "20/20 [==============================] - 0s 848us/step - loss: 132.6748 - val_loss: 106.0984\n",
      "Epoch 194/200\n",
      "20/20 [==============================] - 0s 898us/step - loss: 132.6164 - val_loss: 105.6510\n",
      "Epoch 195/200\n",
      "20/20 [==============================] - 0s 848us/step - loss: 132.8919 - val_loss: 106.0075\n",
      "Epoch 196/200\n",
      "20/20 [==============================] - 0s 898us/step - loss: 132.9554 - val_loss: 105.6105\n",
      "Epoch 197/200\n",
      "20/20 [==============================] - 0s 898us/step - loss: 132.9103 - val_loss: 106.3416\n",
      "Epoch 198/200\n",
      "20/20 [==============================] - 0s 898us/step - loss: 132.4450 - val_loss: 105.6373\n",
      "Epoch 199/200\n",
      "20/20 [==============================] - 0s 898us/step - loss: 133.1846 - val_loss: 105.6174\n",
      "Epoch 200/200\n",
      "20/20 [==============================] - 0s 898us/step - loss: 132.6793 - val_loss: 105.5647\n"
     ]
    },
    {
     "data": {
      "text/plain": [
       "<tensorflow.python.keras.callbacks.History at 0x21d38fc5730>"
      ]
     },
     "execution_count": 55,
     "metadata": {},
     "output_type": "execute_result"
    }
   ],
   "source": [
    "model.fit(x = x_train, y = y_train, validation_data = (x_test, y_test), batch_size = 15,epochs = 200)"
   ]
  },
  {
   "cell_type": "code",
   "execution_count": 56,
   "id": "fb715bbb",
   "metadata": {},
   "outputs": [],
   "source": [
    "kayipVeri = pd.DataFrame(model.history.history)"
   ]
  },
  {
   "cell_type": "code",
   "execution_count": 57,
   "id": "1871109c",
   "metadata": {},
   "outputs": [
    {
     "data": {
      "text/html": [
       "<div>\n",
       "<style scoped>\n",
       "    .dataframe tbody tr th:only-of-type {\n",
       "        vertical-align: middle;\n",
       "    }\n",
       "\n",
       "    .dataframe tbody tr th {\n",
       "        vertical-align: top;\n",
       "    }\n",
       "\n",
       "    .dataframe thead th {\n",
       "        text-align: right;\n",
       "    }\n",
       "</style>\n",
       "<table border=\"1\" class=\"dataframe\">\n",
       "  <thead>\n",
       "    <tr style=\"text-align: right;\">\n",
       "      <th></th>\n",
       "      <th>loss</th>\n",
       "      <th>val_loss</th>\n",
       "    </tr>\n",
       "  </thead>\n",
       "  <tbody>\n",
       "    <tr>\n",
       "      <th>0</th>\n",
       "      <td>3185.329346</td>\n",
       "      <td>3262.937012</td>\n",
       "    </tr>\n",
       "    <tr>\n",
       "      <th>1</th>\n",
       "      <td>3179.606201</td>\n",
       "      <td>3257.577637</td>\n",
       "    </tr>\n",
       "    <tr>\n",
       "      <th>2</th>\n",
       "      <td>3173.967773</td>\n",
       "      <td>3251.374023</td>\n",
       "    </tr>\n",
       "    <tr>\n",
       "      <th>3</th>\n",
       "      <td>3167.193115</td>\n",
       "      <td>3243.301514</td>\n",
       "    </tr>\n",
       "    <tr>\n",
       "      <th>4</th>\n",
       "      <td>3157.819336</td>\n",
       "      <td>3232.408691</td>\n",
       "    </tr>\n",
       "  </tbody>\n",
       "</table>\n",
       "</div>"
      ],
      "text/plain": [
       "          loss     val_loss\n",
       "0  3185.329346  3262.937012\n",
       "1  3179.606201  3257.577637\n",
       "2  3173.967773  3251.374023\n",
       "3  3167.193115  3243.301514\n",
       "4  3157.819336  3232.408691"
      ]
     },
     "execution_count": 57,
     "metadata": {},
     "output_type": "execute_result"
    }
   ],
   "source": [
    "kayipVeri.head()"
   ]
  },
  {
   "cell_type": "code",
   "execution_count": 58,
   "id": "5e84ddf2",
   "metadata": {},
   "outputs": [
    {
     "data": {
      "text/plain": [
       "<AxesSubplot:>"
      ]
     },
     "execution_count": 58,
     "metadata": {},
     "output_type": "execute_result"
    },
    {
     "data": {
      "image/png": "[encoded data removed]",
      "text/plain": [
       "<Figure size 432x288 with 1 Axes>"
      ]
     },
     "metadata": {
      "needs_background": "light"
     },
     "output_type": "display_data"
    }
   ],
   "source": [
    "kayipVeri.plot()"
   ]
  },
  {
   "cell_type": "markdown",
   "id": "0b25b3b3",
   "metadata": {},
   "source": [
    "## Sonuçların Değerlendirilmesi"
   ]
  },
  {
   "cell_type": "code",
   "execution_count": 59,
   "id": "73876d7f",
   "metadata": {},
   "outputs": [],
   "source": [
    "from sklearn.metrics import mean_squared_error, mean_absolute_error"
   ]
  },
  {
   "cell_type": "code",
   "execution_count": 60,
   "id": "5650ae7e",
   "metadata": {},
   "outputs": [],
   "source": [
    "tahmin = model.predict(x_test)"
   ]
  },
  {
   "cell_type": "code",
   "execution_count": 61,
   "id": "1b72b686",
   "metadata": {},
   "outputs": [
    {
     "data": {
      "text/plain": [
       "8.70658442869527"
      ]
     },
     "execution_count": 61,
     "metadata": {},
     "output_type": "execute_result"
    }
   ],
   "source": [
    "mean_absolute_error(y_test, tahmin)"
   ]
  },
  {
   "cell_type": "markdown",
   "id": "de79e5e1",
   "metadata": {},
   "source": [
    "## Tahmin yaptırılması"
   ]
  },
  {
   "cell_type": "code",
   "execution_count": 74,
   "id": "8a7737dc",
   "metadata": {},
   "outputs": [],
   "source": [
    "yeni_deger = [60,25]"
   ]
  },
  {
   "cell_type": "code",
   "execution_count": 75,
   "id": "069f94bc",
   "metadata": {},
   "outputs": [],
   "source": [
    "yeni_deger = pd.DataFrame(yeni_deger)"
   ]
  },
  {
   "cell_type": "code",
   "execution_count": 77,
   "id": "ca19e1b1",
   "metadata": {},
   "outputs": [
    {
     "data": {
      "text/plain": [
       "0    60\n",
       "1    25\n",
       "Name: 0, dtype: int64"
      ]
     },
     "execution_count": 77,
     "metadata": {},
     "output_type": "execute_result"
    }
   ],
   "source": [
    "yeni_deger[0]"
   ]
  },
  {
   "cell_type": "code",
   "execution_count": 79,
   "id": "230cb8bf",
   "metadata": {},
   "outputs": [],
   "source": [
    "yeni_deger = scaler.transform(yeni_deger[0].values.reshape(-1, 2))"
   ]
  },
  {
   "cell_type": "code",
   "execution_count": 81,
   "id": "79c0d584",
   "metadata": {},
   "outputs": [
    {
     "data": {
      "text/plain": [
       "array([[30.40357]], dtype=float32)"
      ]
     },
     "execution_count": 81,
     "metadata": {},
     "output_type": "execute_result"
    }
   ],
   "source": [
    "model.predict(yeni_deger)"
   ]
  },
  {
   "cell_type": "code",
   "execution_count": null,
   "id": "fc9a70aa",
   "metadata": {},
   "outputs": [],
   "source": []
  }
 ],
 "metadata": {
  "kernelspec": {
   "display_name": "Python 3 (ipykernel)",
   "language": "python",
   "name": "python3"
  },
  "language_info": {
   "codemirror_mode": {
    "name": "ipython",
    "version": 3
   },
   "file_extension": ".py",
   "mimetype": "text/x-python",
   "name": "python",
   "nbconvert_exporter": "python",
   "pygments_lexer": "ipython3",
   "version": "3.8.12"
  }
 },
 "nbformat": 4,
 "nbformat_minor": 5
}
